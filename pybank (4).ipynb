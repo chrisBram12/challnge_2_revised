{
 "cells": [
  {
   "cell_type": "code",
   "execution_count": 1,
   "id": "ab8279a8-adc8-4fc9-839c-2f8ef598f4d4",
   "metadata": {},
   "outputs": [
    {
     "name": "stdout",
     "output_type": "stream",
     "text": [
      "Financial Analysis\n",
      "------------------------------\n",
      "Total Months: 86\n",
      "Total: $38382578\n",
      "Average Change: $-2315.12\n",
      "Greatest Increase in Profits: Feb-2012 ($1926159)\n",
      "Greatest Decrease in Profits: Sep-2013 ($-2196167)\n"
     ]
    }
   ],
   "source": [
    "import csv\n",
    "\n",
    "total_months = 0\n",
    "total_profit_losses = 0\n",
    "previous_profit_loss = None\n",
    "changes = []\n",
    "greatest_increase = {\"Date\": \"\", \"Amount\": float(\"-inf\")}\n",
    "greatest_decrease = {\"Date\": \"\", \"Amount\": float(\"inf\")}\n",
    "\n",
    "with open('budget_data.csv', 'r') as csvfile:\n",
    "    csvreader = csv.reader(csvfile)\n",
    "    header = next(csvreader)\n",
    "    \n",
    "    for row in csvreader:\n",
    "        date = row[0]\n",
    "        profit_loss = int(row[1])\n",
    "        \n",
    "        total_months += 1\n",
    "        total_profit_losses += profit_loss\n",
    "        \n",
    "        if previous_profit_loss is not None:\n",
    "            monthly_change = profit_loss - previous_profit_loss\n",
    "            changes.append(monthly_change)\n",
    "            \n",
    "            if monthly_change > greatest_increase[\"Amount\"]:\n",
    "                greatest_increase = {\"Date\": date, \"Amount\": monthly_change}\n",
    "                \n",
    "            if monthly_change < greatest_decrease[\"Amount\"]:\n",
    "                greatest_decrease = {\"Date\": date, \"Amount\": monthly_change}\n",
    "                \n",
    "        previous_profit_loss = profit_loss\n",
    "\n",
    "average_change = sum(changes) / len(changes)\n",
    "\n",
    "print(\"Financial Analysis\")\n",
    "print(\"-\" * 30)\n",
    "print(f\"Total Months: {total_months}\")\n",
    "print(f\"Total: ${total_profit_losses}\")\n",
    "print(f\"Average Change: ${average_change:.2f}\")\n",
    "print(f\"Greatest Increase in Profits: {greatest_increase['Date']} (${greatest_increase['Amount']})\")\n",
    "print(f\"Greatest Decrease in Profits: {greatest_decrease['Date']} (${greatest_decrease['Amount']})\")\n",
    "\n",
    "with open(\"financial_analysis.txt\", \"w\") as txtfile:\n",
    "    txtfile.write(\"Financial Analysis\\n\")\n",
    "    txtfile.write(\"-\" * 30 + \"\\n\")\n",
    "    txtfile.write(f\"Total Months: {total_months}\\n\")\n",
    "    txtfile.write(f\"Total: ${total_profit_losses}\\n\")\n",
    "    txtfile.write(f\"Average Change: ${average_change:.2f}\\n\")\n",
    "    txtfile.write(f\"Greatest Increase in Profits: {greatest_increase['Date']} (${greatest_increase['Amount']})\\n\")\n",
    "    txtfile.write(f\"Greatest Decrease in Profits: {greatest_decrease['Date']} (${greatest_decrease['Amount']})\\n\")\n"
   ]
  },
  {
   "cell_type": "code",
   "execution_count": null,
   "id": "eccbd15c-0fe4-4bec-8490-06c5a289dd90",
   "metadata": {},
   "outputs": [],
   "source": []
  }
 ],
 "metadata": {
  "kernelspec": {
   "display_name": "Python 3 (ipykernel)",
   "language": "python",
   "name": "python3"
  },
  "language_info": {
   "codemirror_mode": {
    "name": "ipython",
    "version": 3
   },
   "file_extension": ".py",
   "mimetype": "text/x-python",
   "name": "python",
   "nbconvert_exporter": "python",
   "pygments_lexer": "ipython3",
   "version": "3.10.9"
  }
 },
 "nbformat": 4,
 "nbformat_minor": 5
}
